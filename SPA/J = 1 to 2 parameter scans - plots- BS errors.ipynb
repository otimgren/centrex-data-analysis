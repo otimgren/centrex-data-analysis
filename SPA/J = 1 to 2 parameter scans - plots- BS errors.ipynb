{
 "cells": [
  {
   "cell_type": "markdown",
   "id": "7701afb1-cec1-498b-b5d8-ba963570552e",
   "metadata": {
    "tags": []
   },
   "source": [
    "# J = 1 to 2 parameter scans - plots\n",
    "Making plots for the data for the first step of SPA"
   ]
  },
  {
   "cell_type": "markdown",
   "id": "7e54875f-feef-4a3b-8656-58f0e98c2667",
   "metadata": {},
   "source": [
    "## Import packages"
   ]
  },
  {
   "cell_type": "code",
   "execution_count": 77,
   "id": "caab1115-c216-4536-839e-4d79a5aac711",
   "metadata": {},
   "outputs": [],
   "source": [
    "import matplotlib.pyplot as plt\n",
    "import numpy as np\n",
    "import pandas as pd\n",
    "from scipy.stats import sem\n",
    "import seaborn as sns\n",
    "import uncertainties as uc\n",
    "from uncertainties import ufloat\n",
    "from uncertainties import unumpy as unp"
   ]
  },
  {
   "cell_type": "markdown",
   "id": "62577d5f-ff60-4bf5-ab64-ce073bab6b25",
   "metadata": {},
   "source": [
    "## Set plot parameters"
   ]
  },
  {
   "cell_type": "code",
   "execution_count": 6,
   "id": "d6980405-5975-42af-aee5-ad3085cd7967",
   "metadata": {},
   "outputs": [],
   "source": [
    "plt.style.use(['seaborn-deep'])\n",
    "# plt.style.use(['fivethirtyeight'])\n",
    "\n",
    "\n",
    "# Font for labels\n",
    "plt.rcParams['font.family'] = 'serif'\n",
    "\n",
    "# Linewidths for plots\n",
    "plt.rcParams['lines.linewidth'] = 1.6\n",
    "plt.rcParams['lines.marker'] = 'x'\n",
    "\n",
    "# Axes\n",
    "plt.rcParams['axes.labelsize'] = 18\n",
    "plt.rcParams['axes.labelweight'] = 'bold'\n",
    "plt.rcParams['axes.grid'] = True\n",
    "\n",
    "\n",
    "# Ticks\n",
    "plt.rcParams['xtick.labelsize'] = 16\n",
    "plt.rcParams['ytick.labelsize'] = 16\n",
    "\n",
    "# Legend\n",
    "plt.rcParams['legend.fontsize'] = 16"
   ]
  },
  {
   "cell_type": "markdown",
   "id": "8467445c-45c5-46c1-97c3-2459f141dc75",
   "metadata": {},
   "source": [
    "## Save folder"
   ]
  },
  {
   "cell_type": "code",
   "execution_count": 7,
   "id": "5fde714d-517d-4f6e-ba4b-afd16e2ce6fa",
   "metadata": {},
   "outputs": [],
   "source": [
    "SAVE_DIR = \"./saved_figs/J12/\""
   ]
  },
  {
   "cell_type": "markdown",
   "id": "a407b3dc-f47e-4aac-8e4e-3a9fb3d5c2b9",
   "metadata": {},
   "source": [
    "## Frequency scans\n",
    "Start by getting data from file"
   ]
  },
  {
   "cell_type": "code",
   "execution_count": 8,
   "id": "c7d4f13c-c3f0-4a6b-8736-8b4e145d68d5",
   "metadata": {},
   "outputs": [],
   "source": [
    "# fname = ('G:\\My Drive\\CeNTREX Oskari\\State preparation\\SPA\\Data analysis\\Analyzed Data'\n",
    "#          '\\SPA_test_11_9_2021_analyzed.hdf')\n",
    "\n",
    "fname = ('D:\\Google Drive\\CeNTREX Oskari\\State preparation\\SPA\\Data analysis\\Analyzed Data'\n",
    "         '\\SPA_test_11_9_2021_analyzed.hdf')\n",
    "\n",
    "# Data for SPA1\n",
    "run_name_freq_R0F2 = \"1636486496 Scan SPA J = 0 to 1 microwave frequency\"\n",
    "df_freq_R0F2_SPA1 = pd.read_hdf(fname, run_name_freq_R0F2)\n",
    "\n",
    "run_name_freq_R1F3_SPA1 = \"1636493528 Accumulation on R(1), F = 3, SPA J = 0 to 1 microwave frequency scan\"\n",
    "df_freq_R1F3_SPA1 = pd.read_hdf(fname, run_name_freq_R1F3_SPA1)\n",
    "\n",
    "# Data for SPA2\n",
    "run_name_freq_R1F3 = \"1636497469 Depletion on R(1), F = 3, SPA J = 1 to 2 microwave frequency scan\"\n",
    "df_freq_R1F3 = pd.read_hdf(fname, run_name_freq_R1F3)\n",
    "\n",
    "run_name_freq_R2F4 = \"1636503922 Accumulation on R(2), F = 4, SPA J = 1 to 2 microwave frequency scan\"\n",
    "df_freq_R2F4 = pd.read_hdf(fname, run_name_freq_R2F4)"
   ]
  },
  {
   "cell_type": "markdown",
   "id": "ef81a786-577a-4068-bf82-96d0d04f6b8c",
   "metadata": {},
   "source": [
    "### SPA2 efficiency vs frequency"
   ]
  },
  {
   "cell_type": "code",
   "execution_count": 133,
   "id": "2b39d50b-c7f7-42d9-8f4c-833e81299cc3",
   "metadata": {},
   "outputs": [],
   "source": [
    "# Define signal sizes\n",
    "\n",
    "# SPA1\n",
    "# Figure out which index corresponds to 13342 MHz for the SPA1 tests\n",
    "idx = (df_freq_R0F2_SPA1.SPAJ01Frequency/1e6 - 13342).tolist().index(0.)\n",
    "\n",
    "S_0_ON = ufloat(df_freq_R0F2_SPA1.IntegratedFluorescence_ON[idx],\n",
    "                    df_freq_R0F2_SPA1.IntegratedFluorescence_ON_err[idx])\n",
    "S_0_OFF = ufloat(df_freq_R0F2_SPA1.IntegratedFluorescence_OFF[idx],\n",
    "                     df_freq_R0F2_SPA1.IntegratedFluorescence_OFF_err[idx])\n",
    "S_1_ON = ufloat(df_freq_R1F3_SPA1.IntegratedFluorescence[idx],\n",
    "                    df_freq_R1F3_SPA1.IntegratedFluorescence_err[idx])\n",
    "S_1_OFF = ufloat(np.mean(df_freq_R1F3_SPA1[:1].IntegratedFluorescence), \n",
    "                 np.sqrt(np.sum(df_freq_R1F3_SPA1[:1].IntegratedFluorescence_err**2))/1)\n",
    "\n",
    "# SPA2\n",
    "Σ_1_ON = unp.uarray(df_freq_R1F3.IntegratedFluorescence_ON[1:],df_freq_R1F3.IntegratedFluorescence_ON_err[1:])\n",
    "# Σ_1_OFF = unp.uarray(df_freq_R1F3.IntegratedFluorescence_OFF[1:],df_freq_R1F3.IntegratedFluorescence_OFF_err[1:])\n",
    "Σ_1_OFF = ufloat(np.mean(df_freq_R1F3[:].IntegratedFluorescence_OFF), \n",
    "                 sem(df_freq_R1F3[:].IntegratedFluorescence_OFF_err))\n",
    "# Σ_1_OFF = S_1_ON\n",
    "Σ_2_ON = unp.uarray(df_freq_R2F4.IntegratedFluorescence[:28],df_freq_R2F4.IntegratedFluorescence_err[:28])\n",
    "Σ_2_OFF = ufloat(np.mean(df_freq_R2F4[-4:].IntegratedFluorescence), \n",
    "                 np.sqrt(np.sum(df_freq_R2F4[-4:].IntegratedFluorescence_err**2))/2)\n",
    "\n",
    "# Numbers of photons per molecule for each transition\n",
    "n_gamma_0 = 1.92\n",
    "n_gamma_1 = 2.10\n",
    "n_gamma_2 = 2.13\n",
    "\n",
    "# Calculate efficiency based on depletion for SPA1\n",
    "e01_dep = (1 - S_0_ON/S_0_OFF)/(1 - 3*n_gamma_0*S_1_OFF/(5*n_gamma_1*S_0_OFF))\n",
    "\n",
    "# Calculate efficiency based on accumulation for SPA1\n",
    "e01_acc = 5/3 * (S_1_ON/S_1_OFF-1)/(5*n_gamma_1*S_0_OFF/(3*n_gamma_0*S_1_OFF) - 1)\n",
    "\n",
    "# Calculate efficiency based on depletion for SPA2\n",
    "e01 = e01_acc\n",
    "# e01 = e01_dep\n",
    "# e01 = 0.75\n",
    "\n",
    "S_1_ON = Σ_1_OFF\n",
    "\n",
    "e12_dep = (\n",
    "    7*n_gamma_2\n",
    "       *(5*e01*n_gamma_1*S_0_OFF + 5*n_gamma_0*S_1_OFF - 3*e01*n_gamma_0*S_1_OFF - 5*n_gamma_0*Σ_1_ON)\n",
    "    /(7*n_gamma_2*(5*e01*n_gamma_1*S_0_OFF + 3*(1-e01)*n_gamma_0*S_1_OFF)\n",
    "       - 15*n_gamma_0*n_gamma_1*Σ_2_OFF)\n",
    ")\n",
    "\n",
    "e12_dep_alt = (7*n_gamma_0*n_gamma_2*(3*e01-5)*(Σ_1_OFF - Σ_1_ON)\n",
    "               / (7*n_gamma_2*(-2*e01*n_gamma_1*S_0_OFF + 3*(-1+e01)*n_gamma_0*Σ_1_OFF) + 3*(5-3*e01)*n_gamma_0*n_gamma_1*Σ_2_OFF))\n",
    "\n",
    "e12_acc = (\n",
    "    35*n_gamma_0*n_gamma_1*(Σ_2_ON - Σ_2_OFF)\n",
    "    /(7*n_gamma_2\n",
    "      *(5*e01*n_gamma_1*S_0_OFF + 3*(1-e01)*n_gamma_0*S_1_OFF) - 15*n_gamma_0*n_gamma_1*Σ_2_OFF)\n",
    ")\n",
    "\n",
    "e12_dep_signal_sizes_acc = (35*n_gamma_2*(Σ_1_ON - Σ_1_OFF)/(7*n_gamma_2*(2*S_1_OFF - 5*Σ_1_OFF) + 15*n_gamma_1*Σ_2_OFF))"
   ]
  },
  {
   "cell_type": "code",
   "execution_count": 134,
   "id": "4a09b9f9-8af4-4161-b31e-754f2eaf1951",
   "metadata": {},
   "outputs": [
    {
     "data": {
      "text/plain": [
       "array([ 1.31425136e-01, -3.41861279e-01,  1.01281634e+00, -2.53344376e-01,\n",
       "       -2.10598986e-01, -2.96562624e-01, -6.68950678e-02, -1.59460780e-01,\n",
       "       -7.66154878e-02, -2.93285456e-02, -7.91526567e-02, -1.77511564e-02,\n",
       "       -2.45838991e-02, -8.68717901e-03, -1.37355394e-02, -1.07811363e-02,\n",
       "       -1.44892873e-02, -1.12134193e-02, -7.93928984e-03, -1.03279839e-02,\n",
       "       -2.74314645e-01, -1.22405229e-01, -1.03080533e-01,  3.07039065e+01,\n",
       "       -2.10846642e+00,  7.15575128e-01, -7.12164104e-01, -3.94333541e-01])"
      ]
     },
     "execution_count": 134,
     "metadata": {},
     "output_type": "execute_result"
    }
   ],
   "source": [
    "num = (35*n_gamma_2*(Σ_1_ON - Σ_1_OFF))\n",
    "unp.std_devs(num)/unp.nominal_values(num)"
   ]
  },
  {
   "cell_type": "code",
   "execution_count": 135,
   "id": "5d34c963-777d-4683-8746-f769610f87fa",
   "metadata": {},
   "outputs": [
    {
     "data": {
      "text/plain": [
       "-0.02458389908108302"
      ]
     },
     "execution_count": 135,
     "metadata": {},
     "output_type": "execute_result"
    }
   ],
   "source": [
    "num[12].s/num[12].n"
   ]
  },
  {
   "cell_type": "code",
   "execution_count": 136,
   "id": "c8bb6523-7d78-4d36-b78b-0dc2dce86e14",
   "metadata": {},
   "outputs": [
    {
     "data": {
      "text/plain": [
       "-0.008649546153219806"
      ]
     },
     "execution_count": 136,
     "metadata": {},
     "output_type": "execute_result"
    }
   ],
   "source": [
    "den = (7*n_gamma_2*(2*S_1_OFF - 5*Σ_1_OFF) + 15*n_gamma_1*Σ_2_OFF)\n",
    "den.s/den.n"
   ]
  },
  {
   "cell_type": "code",
   "execution_count": 137,
   "id": "54d6a4b7-a453-41a9-b5fd-a6d365f2242e",
   "metadata": {},
   "outputs": [
    {
     "data": {
      "text/plain": [
       "0.9369485571185605+/-0.0222161899778326"
      ]
     },
     "execution_count": 137,
     "metadata": {},
     "output_type": "execute_result"
    }
   ],
   "source": [
    "num[12]/den"
   ]
  },
  {
   "cell_type": "code",
   "execution_count": 138,
   "id": "5b3db959-6725-460e-a6db-ee16576949f6",
   "metadata": {},
   "outputs": [
    {
     "data": {
      "text/plain": [
       "array([-0.545091658258212+/-0.07220854338475007,\n",
       "       0.09335812805162028+/-0.031765111035248664,\n",
       "       -0.031754466646476624+/-0.03221666783717471,\n",
       "       0.18465612507739532+/-0.046592193101938136,\n",
       "       0.12412877026649428+/-0.025902168899370057,\n",
       "       0.25479881040313057+/-0.07541102779854801,\n",
       "       0.5262382982943674+/-0.034673952537686674,\n",
       "       0.40779128691872996+/-0.06477828873200811,\n",
       "       0.430117586903474+/-0.032444568708788125,\n",
       "       0.38200597955355614+/-0.009725089911081002,\n",
       "       0.659773119751962+/-0.0518409590710671,\n",
       "       0.8092420998827121+/-0.012909875513722791,\n",
       "       0.9369485571185605+/-0.0222161899778326,\n",
       "       0.9972635735664317+/-0.006338284892964035,\n",
       "       0.9736772016523568+/-0.01196199927982067,\n",
       "       0.9908262268318844+/-0.008886916881715395,\n",
       "       0.9639047737510519+/-0.012607049924116456,\n",
       "       0.9781218571463838+/-0.009202554016179337,\n",
       "       0.9762852792573092+/-0.004939524107759102,\n",
       "       0.760527356239164+/-0.004650377474710382,\n",
       "       0.24905625451986416+/-0.06815379353852931,\n",
       "       0.4233810329489331+/-0.051504817369122664,\n",
       "       0.4871593730840161+/-0.04986061588473962,\n",
       "       -0.0007646092160399352+/-0.02347827533122111,\n",
       "       0.028590172231635683+/-0.06025593265863793,\n",
       "       -0.09781334941329602+/-0.07007443792594616,\n",
       "       0.12716609841060034+/-0.09049284381066312,\n",
       "       0.16761131317010358+/-0.06597159650536781], dtype=object)"
      ]
     },
     "execution_count": 138,
     "metadata": {},
     "output_type": "execute_result"
    }
   ],
   "source": [
    "(35*n_gamma_2*(Σ_1_ON - Σ_1_OFF)/(7*n_gamma_2*(2*S_1_OFF - 5*Σ_1_OFF) + 15*n_gamma_1*Σ_2_OFF))"
   ]
  },
  {
   "cell_type": "code",
   "execution_count": 139,
   "id": "dafa9988-7f86-4031-b599-1d8d02b67bc5",
   "metadata": {},
   "outputs": [
    {
     "data": {
      "text/plain": [
       "19121.896495114932+/-127.12426486652527"
      ]
     },
     "execution_count": 139,
     "metadata": {},
     "output_type": "execute_result"
    }
   ],
   "source": [
    "S_1_ON"
   ]
  },
  {
   "cell_type": "code",
   "execution_count": 140,
   "id": "c99f46c9-ef43-4b9a-af4e-68d0d5f1f7f8",
   "metadata": {},
   "outputs": [
    {
     "data": {
      "text/plain": [
       "19121.896495114932+/-127.12426486652527"
      ]
     },
     "execution_count": 140,
     "metadata": {},
     "output_type": "execute_result"
    }
   ],
   "source": [
    "Σ_1_OFF"
   ]
  },
  {
   "cell_type": "code",
   "execution_count": 141,
   "id": "febd7f42-f9b9-499b-9c7e-506bab47f944",
   "metadata": {},
   "outputs": [
    {
     "data": {
      "text/plain": [
       "array([2741.9902800170926+/-132.98607867292705,\n",
       "       2884.7582093063706+/-155.74404115401254,\n",
       "       2878.5816606220396+/-154.35657565717256,\n",
       "       3428.205649338682+/-181.93571842100386,\n",
       "       3610.345574778371+/-177.36376136827403,\n",
       "       4319.338968882663+/-190.84548625330424,\n",
       "       6784.856876300511+/-350.8917091797228,\n",
       "       6189.298995882372+/-340.0150111578605,\n",
       "       5654.521313267478+/-288.9900591829968,\n",
       "       5437.321256346197+/-250.7676014030883,\n",
       "       5396.152592152896+/-240.87774574439803,\n",
       "       6650.616466767368+/-310.1235744291365,\n",
       "       10668.997475467928+/-564.3802320158605,\n",
       "       16317.461609262577+/-937.9226469417896,\n",
       "       18663.865610439465+/-876.0508541096624,\n",
       "       19544.003996814063+/-1019.5534588643001,\n",
       "       19437.544919367454+/-921.0812014704422,\n",
       "       17968.38653151988+/-747.6578118671373,\n",
       "       18563.613836092423+/-829.0137738022064,\n",
       "       11671.551946844414+/-529.6614734202533,\n",
       "       4227.4503594925245+/-192.67118861015973,\n",
       "       7612.968718528855+/-361.0140020690359,\n",
       "       8049.478919059276+/-391.36319117508054,\n",
       "       2953.970479930043+/-169.44935204361292,\n",
       "       2884.061382624227+/-127.44915358308032,\n",
       "       2790.624192876162+/-135.76118508482952,\n",
       "       2858.7633710211658+/-134.0302746017551,\n",
       "       2994.703644468216+/-148.46992767132724], dtype=object)"
      ]
     },
     "execution_count": 141,
     "metadata": {},
     "output_type": "execute_result"
    }
   ],
   "source": [
    "Σ_2_ON"
   ]
  },
  {
   "cell_type": "code",
   "execution_count": 142,
   "id": "80ad2285-0605-4a36-9cea-80d8c933d853",
   "metadata": {},
   "outputs": [
    {
     "data": {
      "text/plain": [
       "array([-306.2118493184512+/-196.2721201738896,\n",
       "       -163.4439200291731+/-212.35266513923148,\n",
       "       -169.62046871350412+/-211.3371725119844,\n",
       "       380.0035200031384+/-232.24567525385402,\n",
       "       562.1434454428272+/-228.6817698975016,\n",
       "       1271.136839547119+/-239.28946416424597,\n",
       "       3736.6547469649677+/-379.4238258304544,\n",
       "       3141.096866546828+/-369.3882183413973,\n",
       "       2606.3191839319343+/-323.03668885026633,\n",
       "       2389.119127010653+/-289.3472618674833,\n",
       "       2347.9504628173527+/-280.81940180773597,\n",
       "       3602.4143374318246+/-342.07320773988715,\n",
       "       7620.795346132384+/-582.5482763917754,\n",
       "       13269.259479927034+/-948.9659317820871,\n",
       "       15615.663481103922+/-887.8640363383465,\n",
       "       16495.80186747852+/-1029.7216631298527,\n",
       "       16389.34279003191+/-932.3239929010651,\n",
       "       14920.184402184335+/-761.4654632238468,\n",
       "       15515.41170675688+/-841.4875430988433,\n",
       "       8623.349817508872+/-548.9797122503395,\n",
       "       1179.2482301569808+/-240.74807363134508,\n",
       "       4564.766589193311+/-388.80400940146393,\n",
       "       5001.276789723733+/-417.1361833304496,\n",
       "       -94.23164940550078+/-222.59948549974703,\n",
       "       -164.14074671131675+/-192.56358634434343,\n",
       "       -257.5779364593818+/-198.16293147909664,\n",
       "       -189.438758314378+/-196.98112231016884,\n",
       "       -53.498484867327534+/-207.0767187770778], dtype=object)"
      ]
     },
     "execution_count": 142,
     "metadata": {},
     "output_type": "execute_result"
    }
   ],
   "source": [
    "Σ_2_ON - Σ_2_OFF"
   ]
  },
  {
   "cell_type": "code",
   "execution_count": 143,
   "id": "eaf20010-ef27-4fb9-a3c4-08228e17642a",
   "metadata": {},
   "outputs": [
    {
     "data": {
      "text/plain": [
       "0.8193815434744899+/-0.08170899315427727"
      ]
     },
     "execution_count": 143,
     "metadata": {},
     "output_type": "execute_result"
    }
   ],
   "source": [
    "e01"
   ]
  },
  {
   "cell_type": "code",
   "execution_count": 144,
   "id": "ff80cf19-808c-4ed1-b04d-209875e34ed7",
   "metadata": {},
   "outputs": [
    {
     "data": {
      "text/plain": [
       "<matplotlib.legend.Legend at 0x1ad2b0f5cc0>"
      ]
     },
     "execution_count": 144,
     "metadata": {},
     "output_type": "execute_result"
    },
    {
     "data": {
      "image/png": "[encoded data removed]",
      "text/plain": [
       "<Figure size 1152x648 with 1 Axes>"
      ]
     },
     "metadata": {
      "needs_background": "light"
     },
     "output_type": "display_data"
    }
   ],
   "source": [
    "fig, ax = plt.subplots(figsize = (16,9))\n",
    "ax.set_xlabel(\"SPA J = 1 to 2 microwave frequency - 26668.5 MHz / MHz\")\n",
    "ax.set_ylabel(\"SPA2 efficiency\")\n",
    "ax.errorbar(df_freq_R1F3.SPAJ12Frequency[1:]/1e6*2 - 26668.5, unp.nominal_values(e12_dep), \n",
    "            yerr = unp.std_devs(e12_dep), label = 'Depletion', marker = 'x')\n",
    "\n",
    "# ax.errorbar(df_freq_R1F3.SPAJ12Frequency[1:]/1e6*2 - 26668.5, unp.nominal_values(e12_dep_alt), \n",
    "#             yerr = unp.std_devs(e12_dep), label = 'Depletion alt', marker = 'x')\n",
    "\n",
    "ax.errorbar(df_freq_R1F3.SPAJ12Frequency[1:]/1e6*2 - 26668.5, unp.nominal_values(e12_dep_alt), \n",
    "            yerr = unp.std_devs(e12_dep), label = 'Depletion signal sizes', marker = 'x')\n",
    "\n",
    "ax.errorbar(df_freq_R1F3.SPAJ12Frequency[1:]/1e6*2 - 26668.5, unp.nominal_values(e12_acc), \n",
    "            yerr = unp.std_devs(e12_acc), label = 'Accumulation', marker = 'x')\n",
    "\n",
    "ax.legend()\n",
    "# fig.savefig(SAVE_DIR+\"J12_eff_vs_freq.pdf\")"
   ]
  },
  {
   "cell_type": "markdown",
   "id": "b3a9f5ca-8ec3-4a9f-9677-92b8dba898af",
   "metadata": {},
   "source": [
    "## Error propagation using bootstrap\n",
    "The error bars for the depletion measurements seem too small given that choosing to use S_1_ON vs Sigma_1_OFF give fairly different results. Thus wondering if there is something weird going on with the error propagation package. Repeat error calculation using bootstrap here.\n"
   ]
  },
  {
   "cell_type": "code",
   "execution_count": 119,
   "id": "5db0e21a-40d7-4ff5-8b19-e6bbef0ce9eb",
   "metadata": {},
   "outputs": [
    {
     "name": "stdout",
     "output_type": "stream",
     "text": [
      "1,2,3\n"
     ]
    }
   ],
   "source": [
    "test = lambda x,y,z: print(f\"{x},{y},{z}\")\n",
    "test_params = [1,2,3]\n",
    "test(*test_params)"
   ]
  },
  {
   "cell_type": "code",
   "execution_count": 120,
   "id": "37088fa1-d109-4eed-bcf6-3ae5d0609f54",
   "metadata": {},
   "outputs": [
    {
     "name": "stdout",
     "output_type": "stream",
     "text": [
      "1,2,3\n",
      "1,2,3\n"
     ]
    }
   ],
   "source": [
    "def test_func(*params, func):\n",
    "    print(f\"{params[0]},{params[1]},{params[2]}\")\n",
    "    func(*params)\n",
    "    \n",
    "\n",
    "test_func(*test_params, func = test)"
   ]
  },
  {
   "cell_type": "code",
   "execution_count": 145,
   "id": "c8f8c3da-ddaa-4716-90a0-94688bec9a01",
   "metadata": {},
   "outputs": [
    {
     "data": {
      "text/plain": [
       "0.02439337851536377"
      ]
     },
     "execution_count": 145,
     "metadata": {},
     "output_type": "execute_result"
    },
    {
     "data": {
      "image/png": "[encoded data removed]",
      "text/plain": [
       "<Figure size 432x288 with 1 Axes>"
      ]
     },
     "metadata": {
      "needs_background": "light"
     },
     "output_type": "display_data"
    }
   ],
   "source": [
    "def bootstrap_values(*variables, expression, N_bs = 10):\n",
    "    \"\"\"\n",
    "    Calculates mean and standard error for expression using variables\n",
    "    \"\"\"\n",
    "    variable_values = []\n",
    "    for variable in variables:\n",
    "        variable_values.append(np.random.normal(variable.n, variable.s, N_bs))\n",
    "        \n",
    "    values = expression(*variable_values)\n",
    "    \n",
    "    return values\n",
    "        \n",
    "values = bootstrap_values(num[12], den, expression = lambda x,y: x/y, N_bs = 10000)\n",
    "\n",
    "sns.histplot(values)\n",
    "\n",
    "np.std(values)"
   ]
  },
  {
   "cell_type": "code",
   "execution_count": 146,
   "id": "6d4b15ca-3ba0-481b-abe8-f901b1bc1148",
   "metadata": {},
   "outputs": [
    {
     "data": {
      "text/plain": [
       "0.00289428829214852"
      ]
     },
     "execution_count": 146,
     "metadata": {},
     "output_type": "execute_result"
    },
    {
     "data": {
      "image/png": "[encoded data removed]",
      "text/plain": [
       "<Figure size 432x288 with 1 Axes>"
      ]
     },
     "metadata": {
      "needs_background": "light"
     },
     "output_type": "display_data"
    }
   ],
   "source": [
    "expression = lambda Σ_1_ON, Σ_1_OFF, S_1_OFF, Σ_2_OFF: (35*n_gamma_2*(Σ_1_ON - Σ_1_OFF)/(7*n_gamma_2*(2*S_1_OFF - 5*Σ_1_OFF) + 15*n_gamma_1*Σ_2_OFF))\n",
    "expression(Σ_1_ON[12], Σ_1_OFF, S_1_OFF, Σ_2_OFF)\n",
    "\n",
    "values = bootstrap_values(Σ_1_ON[13], ufloat(40000, 2000), S_1_OFF, Σ_2_OFF, expression = expression, N_bs = 10000)\n",
    "\n",
    "sns.histplot(values)\n",
    "\n",
    "np.std(values)"
   ]
  },
  {
   "cell_type": "code",
   "execution_count": 147,
   "id": "e53621ae-026f-4188-9a91-10b5204343b8",
   "metadata": {},
   "outputs": [
    {
     "data": {
      "text/plain": [
       "1650.4364159333252+/-116.85578939100198"
      ]
     },
     "execution_count": 147,
     "metadata": {},
     "output_type": "execute_result"
    }
   ],
   "source": [
    "S_1_OFF"
   ]
  },
  {
   "cell_type": "code",
   "execution_count": 149,
   "id": "a89cc8c9-9393-4c1c-a740-398e615378f4",
   "metadata": {},
   "outputs": [
    {
     "data": {
      "text/plain": [
       "19121.896495114932+/-127.12426486652527"
      ]
     },
     "execution_count": 149,
     "metadata": {},
     "output_type": "execute_result"
    }
   ],
   "source": [
    "Σ_1_ON"
   ]
  },
  {
   "cell_type": "code",
   "execution_count": 150,
   "id": "714a24e8-221f-49b0-82fd-8a4ff53d1d7f",
   "metadata": {},
   "outputs": [
    {
     "data": {
      "text/plain": [
       "3048.2021293355438+/-144.35182034443423"
      ]
     },
     "execution_count": 150,
     "metadata": {},
     "output_type": "execute_result"
    }
   ],
   "source": [
    "Σ_2_OFF"
   ]
  },
  {
   "cell_type": "code",
   "execution_count": 154,
   "id": "333abb56-47a5-49fa-acb1-e7e1087ad3f4",
   "metadata": {},
   "outputs": [
    {
     "data": {
      "text/plain": [
       "1995.14199834747+/-77.30366457156012"
      ]
     },
     "execution_count": 154,
     "metadata": {},
     "output_type": "execute_result"
    }
   ],
   "source": [
    "Σ_1_ON[13]"
   ]
  },
  {
   "cell_type": "code",
   "execution_count": 153,
   "id": "fde9c8eb-a873-4288-8de0-9e3eefbe4fae",
   "metadata": {},
   "outputs": [
    {
     "data": {
      "text/plain": [
       "array([1.4895574783212453+/-0.06475741417879047,\n",
       "       0.9161532394463962+/-0.02853982796006515,\n",
       "       1.0285193074987788+/-0.02892904690401033,\n",
       "       0.8341567228558846+/-0.041855166786376644,\n",
       "       0.8885175239097202+/-0.02327908675809925,\n",
       "       0.7711602054252672+/-0.06773322191599739,\n",
       "       0.527375092966445+/-0.031107619053939606,\n",
       "       0.6337546702820026+/-0.05817491401054467,\n",
       "       0.6137029836432807+/-0.02912716675726079,\n",
       "       0.6569129590948778+/-0.008724916157692848,\n",
       "       0.4074448583527826+/-0.04650770952036271,\n",
       "       0.2732038442197142+/-0.011204894439058545,\n",
       "       0.15850817749552074+/-0.019618139618614704,\n",
       "       0.10433808167809969+/-0.00410175489354797,\n",
       "       0.12552146355904506+/-0.01003860992862366,\n",
       "       0.11011958867183098+/-0.006955721884055253,\n",
       "       0.13429827217087817+/-0.010674119610968705,\n",
       "       0.12152963153832526+/-0.00731375281329721,\n",
       "       0.12317909805738517+/-0.002221165083028631,\n",
       "       0.3169555081718052+/-0.00316361299282186,\n",
       "       0.7763177071678439+/-0.061216062494709254,\n",
       "       0.6197532144927094+/-0.04625084570251066,\n",
       "       0.5624726399416027+/-0.04476433430462501,\n",
       "       1.0006867104899417+/-0.021086134605912656,\n",
       "       0.9743226071974497+/-0.05411922381306267,\n",
       "       1.0878480819866896+/-0.0629263470234617,\n",
       "       0.885789640104244+/-0.08127798108497195,\n",
       "       0.8494650017652655+/-0.05925726355375219], dtype=object)"
      ]
     },
     "execution_count": 153,
     "metadata": {},
     "output_type": "execute_result"
    }
   ],
   "source": [
    "Σ_1_ON/Σ_1_OFF"
   ]
  },
  {
   "cell_type": "code",
   "execution_count": null,
   "id": "88e72e79-5f38-4333-9fbf-7810651b86b6",
   "metadata": {},
   "outputs": [],
   "source": []
  }
 ],
 "metadata": {
  "kernelspec": {
   "display_name": "Python 3 (ipykernel)",
   "language": "python",
   "name": "python3"
  },
  "language_info": {
   "codemirror_mode": {
    "name": "ipython",
    "version": 3
   },
   "file_extension": ".py",
   "mimetype": "text/x-python",
   "name": "python",
   "nbconvert_exporter": "python",
   "pygments_lexer": "ipython3",
   "version": "3.10.2"
  }
 },
 "nbformat": 4,
 "nbformat_minor": 5
}
