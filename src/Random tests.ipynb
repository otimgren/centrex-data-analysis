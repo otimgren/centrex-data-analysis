{
 "cells": [
  {
   "cell_type": "markdown",
   "id": "c57ae9e5-3ded-46e9-b416-aa995e8df0e9",
   "metadata": {},
   "source": [
    "# Random tests"
   ]
  },
  {
   "cell_type": "markdown",
   "id": "1a547560-9a47-4c26-9b26-114c31d53444",
   "metadata": {},
   "source": [
    "## Comparing types"
   ]
  },
  {
   "cell_type": "code",
   "execution_count": 1,
   "id": "ddf01db7-7bca-4a28-a4fd-bbf0c0133946",
   "metadata": {},
   "outputs": [
    {
     "data": {
      "text/plain": [
       "int"
      ]
     },
     "execution_count": 1,
     "metadata": {},
     "output_type": "execute_result"
    }
   ],
   "source": [
    "type(5)"
   ]
  },
  {
   "cell_type": "code",
   "execution_count": 2,
   "id": "e004a8c9-61ab-4c1d-acda-bcaa76abc678",
   "metadata": {},
   "outputs": [
    {
     "data": {
      "text/plain": [
       "str"
      ]
     },
     "execution_count": 2,
     "metadata": {},
     "output_type": "execute_result"
    }
   ],
   "source": [
    "type('hello')"
   ]
  },
  {
   "cell_type": "code",
   "execution_count": 3,
   "id": "6b82822b-bd8e-464e-aa0e-027f05b40da9",
   "metadata": {},
   "outputs": [
    {
     "data": {
      "text/plain": [
       "True"
      ]
     },
     "execution_count": 3,
     "metadata": {},
     "output_type": "execute_result"
    }
   ],
   "source": [
    "type('hello') == str"
   ]
  },
  {
   "cell_type": "code",
   "execution_count": 4,
   "id": "e4bda52d-7444-41f3-9f8b-b4f1a886aa86",
   "metadata": {},
   "outputs": [
    {
     "data": {
      "text/plain": [
       "True"
      ]
     },
     "execution_count": 4,
     "metadata": {},
     "output_type": "execute_result"
    }
   ],
   "source": [
    "type('hello') is str"
   ]
  },
  {
   "cell_type": "code",
   "execution_count": null,
   "id": "5c353db6-2c90-46ae-b052-ab89f133184e",
   "metadata": {},
   "outputs": [],
   "source": []
  },
  {
   "cell_type": "markdown",
   "id": "a615024d-5582-42f9-9320-dfb7a9e67d4f",
   "metadata": {},
   "source": [
    "## Dataframe attributes"
   ]
  },
  {
   "cell_type": "code",
   "execution_count": 5,
   "id": "5d36ae89-3496-4b99-be33-355877f74e99",
   "metadata": {},
   "outputs": [],
   "source": [
    "import pandas as pd"
   ]
  },
  {
   "cell_type": "code",
   "execution_count": 6,
   "id": "c2c948be-2a94-4158-b5f0-154eb170dd55",
   "metadata": {},
   "outputs": [],
   "source": [
    "data_dict = {\"A\":[1,2,3]}\n",
    "df = pd.DataFrame(data = data_dict)"
   ]
  },
  {
   "cell_type": "code",
   "execution_count": 7,
   "id": "05eaa9f2-3571-4476-aa80-3ffb320a5afd",
   "metadata": {},
   "outputs": [
    {
     "data": {
      "text/html": [
       "<div>\n",
       "<style scoped>\n",
       "    .dataframe tbody tr th:only-of-type {\n",
       "        vertical-align: middle;\n",
       "    }\n",
       "\n",
       "    .dataframe tbody tr th {\n",
       "        vertical-align: top;\n",
       "    }\n",
       "\n",
       "    .dataframe thead th {\n",
       "        text-align: right;\n",
       "    }\n",
       "</style>\n",
       "<table border=\"1\" class=\"dataframe\">\n",
       "  <thead>\n",
       "    <tr style=\"text-align: right;\">\n",
       "      <th></th>\n",
       "      <th>A</th>\n",
       "    </tr>\n",
       "  </thead>\n",
       "  <tbody>\n",
       "    <tr>\n",
       "      <th>0</th>\n",
       "      <td>1</td>\n",
       "    </tr>\n",
       "    <tr>\n",
       "      <th>1</th>\n",
       "      <td>2</td>\n",
       "    </tr>\n",
       "    <tr>\n",
       "      <th>2</th>\n",
       "      <td>3</td>\n",
       "    </tr>\n",
       "  </tbody>\n",
       "</table>\n",
       "</div>"
      ],
      "text/plain": [
       "   A\n",
       "0  1\n",
       "1  2\n",
       "2  3"
      ]
     },
     "execution_count": 7,
     "metadata": {},
     "output_type": "execute_result"
    }
   ],
   "source": [
    "df"
   ]
  },
  {
   "cell_type": "code",
   "execution_count": 8,
   "id": "5d0a478f-84f1-43fa-8a71-d9acd7dd8b48",
   "metadata": {},
   "outputs": [],
   "source": [
    "df.attrs['thing'] = 'stuff'"
   ]
  },
  {
   "cell_type": "code",
   "execution_count": 9,
   "id": "494e15a0-46c4-409f-bcd6-31c252777ecc",
   "metadata": {},
   "outputs": [
    {
     "data": {
      "text/plain": [
       "{'thing': 'stuff'}"
      ]
     },
     "execution_count": 9,
     "metadata": {},
     "output_type": "execute_result"
    }
   ],
   "source": [
    "df.attrs"
   ]
  },
  {
   "cell_type": "code",
   "execution_count": null,
   "id": "fe56d6dd-720f-426f-825d-a91ced3dd8d1",
   "metadata": {},
   "outputs": [],
   "source": []
  },
  {
   "cell_type": "markdown",
   "id": "a6e8d895-fe40-456f-8979-016b23097b84",
   "metadata": {},
   "source": [
    "## Slicing arrays"
   ]
  },
  {
   "cell_type": "code",
   "execution_count": 10,
   "id": "d8e859ce-c55b-45ea-bb7a-8e7e4f81250d",
   "metadata": {},
   "outputs": [],
   "source": [
    "import numpy as np"
   ]
  },
  {
   "cell_type": "code",
   "execution_count": 11,
   "id": "0c57b3de-f63c-4925-bf0e-90864628c5c7",
   "metadata": {},
   "outputs": [],
   "source": [
    "test_slice = np.s_[0:512,0:512]"
   ]
  },
  {
   "cell_type": "code",
   "execution_count": 12,
   "id": "0fc13a09-fee7-4de7-86d0-8a91cc94eb2e",
   "metadata": {},
   "outputs": [],
   "source": [
    "test_array = np.ones((512,512))"
   ]
  },
  {
   "cell_type": "code",
   "execution_count": 13,
   "id": "d281feef-7769-42e5-a81d-f342b8574fb5",
   "metadata": {},
   "outputs": [
    {
     "data": {
      "text/plain": [
       "array([[[1., 1., 1., ..., 1., 1., 1.],\n",
       "        [1., 1., 1., ..., 1., 1., 1.],\n",
       "        [1., 1., 1., ..., 1., 1., 1.],\n",
       "        ...,\n",
       "        [1., 1., 1., ..., 1., 1., 1.],\n",
       "        [1., 1., 1., ..., 1., 1., 1.],\n",
       "        [1., 1., 1., ..., 1., 1., 1.]]])"
      ]
     },
     "execution_count": 13,
     "metadata": {},
     "output_type": "execute_result"
    }
   ],
   "source": [
    "test_array[None]"
   ]
  },
  {
   "cell_type": "markdown",
   "id": "dd093859-d38c-426c-be11-b241b5257f5d",
   "metadata": {},
   "source": [
    "## Initializing a GaussianResult"
   ]
  },
  {
   "cell_type": "code",
   "execution_count": 14,
   "id": "dcc52780-c7ea-4703-804f-13bde1e4a5df",
   "metadata": {},
   "outputs": [],
   "source": [
    "from data_analysis.signal_calculators import GaussianResult"
   ]
  },
  {
   "cell_type": "code",
   "execution_count": 16,
   "id": "44040358-8f71-4fc3-97a0-916851728c05",
   "metadata": {},
   "outputs": [
    {
     "data": {
      "text/plain": [
       "GaussianResult(signal_size=1, params=1)"
      ]
     },
     "execution_count": 16,
     "metadata": {},
     "output_type": "execute_result"
    }
   ],
   "source": [
    "GaussianResult(1,1)"
   ]
  },
  {
   "cell_type": "markdown",
   "id": "36ceb353-440c-4777-b79c-cb671519df3b",
   "metadata": {},
   "source": [
    "## Pandas dataframe setting on copy of a slice"
   ]
  },
  {
   "cell_type": "code",
   "execution_count": 17,
   "id": "4deea340-70de-450d-9205-0f2cc4034eba",
   "metadata": {},
   "outputs": [],
   "source": [
    "import pandas as pd"
   ]
  },
  {
   "cell_type": "code",
   "execution_count": 25,
   "id": "42bdb212-d193-4c23-bd40-3a9ac274b2a5",
   "metadata": {},
   "outputs": [],
   "source": [
    "df = pd.DataFrame(data = {'a':[1,2,3], 'b':[1,2,3]})"
   ]
  },
  {
   "cell_type": "code",
   "execution_count": 26,
   "id": "4a3b022d-d254-4cff-bf38-72fe1170dae5",
   "metadata": {},
   "outputs": [],
   "source": [
    "df['c'] = df.a/df.b"
   ]
  },
  {
   "cell_type": "code",
   "execution_count": 21,
   "id": "246af955-9a29-4c1f-a142-1dd2d53684b9",
   "metadata": {},
   "outputs": [
    {
     "data": {
      "text/plain": [
       "0    1.0\n",
       "1    1.0\n",
       "2    1.0\n",
       "Name: c, dtype: float64"
      ]
     },
     "execution_count": 21,
     "metadata": {},
     "output_type": "execute_result"
    }
   ],
   "source": [
    "df['c']"
   ]
  },
  {
   "cell_type": "code",
   "execution_count": null,
   "id": "f6a06bb9-a14e-4527-a735-1b026686bab9",
   "metadata": {},
   "outputs": [],
   "source": []
  }
 ],
 "metadata": {
  "kernelspec": {
   "display_name": "Python 3 (ipykernel)",
   "language": "python",
   "name": "python3"
  },
  "language_info": {
   "codemirror_mode": {
    "name": "ipython",
    "version": 3
   },
   "file_extension": ".py",
   "mimetype": "text/x-python",
   "name": "python",
   "nbconvert_exporter": "python",
   "pygments_lexer": "ipython3",
   "version": "3.9.7"
  }
 },
 "nbformat": 4,
 "nbformat_minor": 5
}
