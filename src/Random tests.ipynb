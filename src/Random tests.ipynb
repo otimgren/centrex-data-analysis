{
 "cells": [
  {
   "cell_type": "markdown",
   "id": "c57ae9e5-3ded-46e9-b416-aa995e8df0e9",
   "metadata": {},
   "source": [
    "# Random tests"
   ]
  },
  {
   "cell_type": "markdown",
   "id": "1a547560-9a47-4c26-9b26-114c31d53444",
   "metadata": {},
   "source": [
    "## Comparing types"
   ]
  },
  {
   "cell_type": "code",
   "execution_count": 1,
   "id": "ddf01db7-7bca-4a28-a4fd-bbf0c0133946",
   "metadata": {},
   "outputs": [
    {
     "data": {
      "text/plain": [
       "int"
      ]
     },
     "execution_count": 1,
     "metadata": {},
     "output_type": "execute_result"
    }
   ],
   "source": [
    "type(5)"
   ]
  },
  {
   "cell_type": "code",
   "execution_count": 3,
   "id": "e004a8c9-61ab-4c1d-acda-bcaa76abc678",
   "metadata": {},
   "outputs": [
    {
     "data": {
      "text/plain": [
       "str"
      ]
     },
     "execution_count": 3,
     "metadata": {},
     "output_type": "execute_result"
    }
   ],
   "source": [
    "type('hello')"
   ]
  },
  {
   "cell_type": "code",
   "execution_count": 4,
   "id": "6b82822b-bd8e-464e-aa0e-027f05b40da9",
   "metadata": {},
   "outputs": [
    {
     "data": {
      "text/plain": [
       "True"
      ]
     },
     "execution_count": 4,
     "metadata": {},
     "output_type": "execute_result"
    }
   ],
   "source": [
    "type('hello') == str"
   ]
  },
  {
   "cell_type": "code",
   "execution_count": 5,
   "id": "e4bda52d-7444-41f3-9f8b-b4f1a886aa86",
   "metadata": {},
   "outputs": [
    {
     "data": {
      "text/plain": [
       "True"
      ]
     },
     "execution_count": 5,
     "metadata": {},
     "output_type": "execute_result"
    }
   ],
   "source": [
    "type('hello') is str"
   ]
  },
  {
   "cell_type": "code",
   "execution_count": null,
   "id": "5c353db6-2c90-46ae-b052-ab89f133184e",
   "metadata": {},
   "outputs": [],
   "source": []
  },
  {
   "cell_type": "markdown",
   "id": "a615024d-5582-42f9-9320-dfb7a9e67d4f",
   "metadata": {},
   "source": [
    "## Dataframe attributes"
   ]
  },
  {
   "cell_type": "code",
   "execution_count": 6,
   "id": "5d36ae89-3496-4b99-be33-355877f74e99",
   "metadata": {},
   "outputs": [],
   "source": [
    "import pandas as pd"
   ]
  },
  {
   "cell_type": "code",
   "execution_count": 7,
   "id": "c2c948be-2a94-4158-b5f0-154eb170dd55",
   "metadata": {},
   "outputs": [],
   "source": [
    "data_dict = {\"A\":[1,2,3]}\n",
    "df = pd.DataFrame(data = data_dict)"
   ]
  },
  {
   "cell_type": "code",
   "execution_count": 8,
   "id": "05eaa9f2-3571-4476-aa80-3ffb320a5afd",
   "metadata": {},
   "outputs": [
    {
     "data": {
      "text/html": [
       "<div>\n",
       "<style scoped>\n",
       "    .dataframe tbody tr th:only-of-type {\n",
       "        vertical-align: middle;\n",
       "    }\n",
       "\n",
       "    .dataframe tbody tr th {\n",
       "        vertical-align: top;\n",
       "    }\n",
       "\n",
       "    .dataframe thead th {\n",
       "        text-align: right;\n",
       "    }\n",
       "</style>\n",
       "<table border=\"1\" class=\"dataframe\">\n",
       "  <thead>\n",
       "    <tr style=\"text-align: right;\">\n",
       "      <th></th>\n",
       "      <th>A</th>\n",
       "    </tr>\n",
       "  </thead>\n",
       "  <tbody>\n",
       "    <tr>\n",
       "      <th>0</th>\n",
       "      <td>1</td>\n",
       "    </tr>\n",
       "    <tr>\n",
       "      <th>1</th>\n",
       "      <td>2</td>\n",
       "    </tr>\n",
       "    <tr>\n",
       "      <th>2</th>\n",
       "      <td>3</td>\n",
       "    </tr>\n",
       "  </tbody>\n",
       "</table>\n",
       "</div>"
      ],
      "text/plain": [
       "   A\n",
       "0  1\n",
       "1  2\n",
       "2  3"
      ]
     },
     "execution_count": 8,
     "metadata": {},
     "output_type": "execute_result"
    }
   ],
   "source": [
    "df"
   ]
  },
  {
   "cell_type": "code",
   "execution_count": 9,
   "id": "5d0a478f-84f1-43fa-8a71-d9acd7dd8b48",
   "metadata": {},
   "outputs": [],
   "source": [
    "df.attrs['thing'] = 'stuff'"
   ]
  },
  {
   "cell_type": "code",
   "execution_count": 10,
   "id": "494e15a0-46c4-409f-bcd6-31c252777ecc",
   "metadata": {},
   "outputs": [
    {
     "data": {
      "text/plain": [
       "{'thing': 'stuff'}"
      ]
     },
     "execution_count": 10,
     "metadata": {},
     "output_type": "execute_result"
    }
   ],
   "source": [
    "df.attrs"
   ]
  },
  {
   "cell_type": "code",
   "execution_count": null,
   "id": "fe56d6dd-720f-426f-825d-a91ced3dd8d1",
   "metadata": {},
   "outputs": [],
   "source": []
  }
 ],
 "metadata": {
  "kernelspec": {
   "display_name": "Python 3 (ipykernel)",
   "language": "python",
   "name": "python3"
  },
  "language_info": {
   "codemirror_mode": {
    "name": "ipython",
    "version": 3
   },
   "file_extension": ".py",
   "mimetype": "text/x-python",
   "name": "python",
   "nbconvert_exporter": "python",
   "pygments_lexer": "ipython3",
   "version": "3.9.7"
  }
 },
 "nbformat": 4,
 "nbformat_minor": 5
}
